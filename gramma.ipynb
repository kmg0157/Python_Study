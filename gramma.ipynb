{
 "cells": [
  {
   "cell_type": "markdown",
   "id": "42a07f2c-6e39-4128-9a24-71fde03155b2",
   "metadata": {},
   "source": [
    "### 출력"
   ]
  },
  {
   "cell_type": "code",
   "execution_count": 8,
   "id": "76558942-571a-4d00-901b-1a86047203bd",
   "metadata": {},
   "outputs": [
    {
     "name": "stdout",
     "output_type": "stream",
     "text": [
      "hello\n"
     ]
    }
   ],
   "source": [
    "print('hello')"
   ]
  },
  {
   "cell_type": "code",
   "execution_count": 29,
   "id": "0f2d56da-3435-4603-8bea-5fb14298b1fa",
   "metadata": {},
   "outputs": [
    {
     "name": "stdout",
     "output_type": "stream",
     "text": [
      "hello\n"
     ]
    }
   ],
   "source": [
    "print(\"hello\")"
   ]
  },
  {
   "cell_type": "code",
   "execution_count": 9,
   "id": "ba71e8b1-f509-4140-b51a-a91f99165b2e",
   "metadata": {},
   "outputs": [
    {
     "name": "stdout",
     "output_type": "stream",
     "text": [
      "hello \"안녕하세요\"\n"
     ]
    }
   ],
   "source": [
    "print('hello \"안녕하세요\"')"
   ]
  },
  {
   "cell_type": "code",
   "execution_count": 10,
   "id": "35b6d61b-977c-4157-a804-4c5014bf2a20",
   "metadata": {},
   "outputs": [
    {
     "name": "stdout",
     "output_type": "stream",
     "text": [
      "hello '안녕하세요'\n"
     ]
    }
   ],
   "source": [
    "print(\"hello '안녕하세요'\")"
   ]
  },
  {
   "cell_type": "code",
   "execution_count": 11,
   "id": "b17cb403-839d-4eb7-831b-724053c2accf",
   "metadata": {},
   "outputs": [
    {
     "name": "stdout",
     "output_type": "stream",
     "text": [
      "안녕 하세요 반갑습니다\n"
     ]
    }
   ],
   "source": [
    "print('안녕','하세요','반갑습니다')"
   ]
  },
  {
   "cell_type": "code",
   "execution_count": 12,
   "id": "f5aa0d28-2ee6-4e73-b751-cc5405720e16",
   "metadata": {},
   "outputs": [
    {
     "name": "stdout",
     "output_type": "stream",
     "text": [
      "안녕하세요반갑습니다\n"
     ]
    }
   ],
   "source": [
    "print('안녕'+'하세요'+'반갑습니다')"
   ]
  },
  {
   "cell_type": "code",
   "execution_count": 13,
   "id": "b2d8d2a3-b560-4d9e-80a6-bf5befebc31c",
   "metadata": {},
   "outputs": [
    {
     "name": "stdout",
     "output_type": "stream",
     "text": [
      "안녕하세요\n",
      "오늘은 날씨가 좋네요\n"
     ]
    }
   ],
   "source": [
    "print(\"\"\"안녕하세요\n",
    "오늘은 날씨가 좋네요\"\"\")"
   ]
  },
  {
   "cell_type": "code",
   "execution_count": 14,
   "id": "9358c690-979e-4194-8a85-68df8057d66d",
   "metadata": {},
   "outputs": [
    {
     "name": "stdout",
     "output_type": "stream",
     "text": [
      "안녕하세요\n",
      "오늘은 날씨가 좋네요\n"
     ]
    }
   ],
   "source": [
    "print('''안녕하세요\n",
    "오늘은 날씨가 좋네요''')"
   ]
  },
  {
   "cell_type": "code",
   "execution_count": 16,
   "id": "df03e0a7-9ee4-495f-8004-3c0210d41d10",
   "metadata": {},
   "outputs": [
    {
     "name": "stdout",
     "output_type": "stream",
     "text": [
      "a값:123 b값:안녕하세요\n"
     ]
    }
   ],
   "source": [
    "a=123\n",
    "b=\"안녕하세요\"\n",
    "print(\"a값:{} b값:{}\" .format(a,b))"
   ]
  },
  {
   "cell_type": "code",
   "execution_count": 17,
   "id": "6de57d0e-f1b2-43e9-9417-ed73c47fd8ae",
   "metadata": {},
   "outputs": [
    {
     "name": "stdout",
     "output_type": "stream",
     "text": [
      "a값:123 b값:안녕하세요\n"
     ]
    }
   ],
   "source": [
    "a=123\n",
    "b=\"안녕하세요\"\n",
    "print(f\"a값:{a} b값:{b}\")"
   ]
  },
  {
   "cell_type": "markdown",
   "id": "5f761f37-922d-4537-ab51-7886599d6e54",
   "metadata": {},
   "source": [
    "### 입력"
   ]
  },
  {
   "cell_type": "code",
   "execution_count": 18,
   "id": "ab6da607-6889-4990-bc15-2d17d29b0273",
   "metadata": {},
   "outputs": [
    {
     "name": "stdin",
     "output_type": "stream",
     "text": [
      " 안녕하세요\n"
     ]
    },
    {
     "data": {
      "text/plain": [
       "'안녕하세요'"
      ]
     },
     "execution_count": 18,
     "metadata": {},
     "output_type": "execute_result"
    }
   ],
   "source": [
    "input()"
   ]
  },
  {
   "cell_type": "code",
   "execution_count": 19,
   "id": "db5854d2-c2f5-43a7-a005-ab1a9f4d1928",
   "metadata": {},
   "outputs": [
    {
     "name": "stdin",
     "output_type": "stream",
     "text": [
      " 123\n"
     ]
    },
    {
     "data": {
      "text/plain": [
       "'123'"
      ]
     },
     "execution_count": 19,
     "metadata": {},
     "output_type": "execute_result"
    }
   ],
   "source": [
    "input()"
   ]
  },
  {
   "cell_type": "code",
   "execution_count": 20,
   "id": "00a23cc5-983f-4cd9-8dfa-2f862efb17bd",
   "metadata": {},
   "outputs": [
    {
     "name": "stdin",
     "output_type": "stream",
     "text": [
      "값을 입력하여 주세요: 안녕하세요\n"
     ]
    },
    {
     "data": {
      "text/plain": [
       "'안녕하세요'"
      ]
     },
     "execution_count": 20,
     "metadata": {},
     "output_type": "execute_result"
    }
   ],
   "source": [
    "input(\"값을 입력하여 주세요:\")"
   ]
  },
  {
   "cell_type": "markdown",
   "id": "4e3163f2-e136-44dc-a080-e02e8ea3cd64",
   "metadata": {},
   "source": [
    "### 연산, 자료형"
   ]
  },
  {
   "cell_type": "code",
   "execution_count": 21,
   "id": "1c1e995a-556c-4dcc-9943-42c19daff1d8",
   "metadata": {},
   "outputs": [
    {
     "name": "stdin",
     "output_type": "stream",
     "text": [
      "첫 번째 문자열 입력: 안녕\n",
      "두 번째 문자열 입력: 하세요\n"
     ]
    },
    {
     "data": {
      "text/plain": [
       "'안녕하세요'"
      ]
     },
     "execution_count": 21,
     "metadata": {},
     "output_type": "execute_result"
    }
   ],
   "source": [
    "a=input(\"첫 번째 문자열 입력:\")\n",
    "b=input(\"두 번째 문자열 입력:\")\n",
    "a+b"
   ]
  },
  {
   "cell_type": "code",
   "execution_count": 22,
   "id": "a046c202-156f-420d-aceb-67bceace3e34",
   "metadata": {},
   "outputs": [
    {
     "name": "stdin",
     "output_type": "stream",
     "text": [
      "첫 번째 문자열 입력: 100\n",
      "두 번째 문자열 입력: 200\n"
     ]
    },
    {
     "data": {
      "text/plain": [
       "'100200'"
      ]
     },
     "execution_count": 22,
     "metadata": {},
     "output_type": "execute_result"
    }
   ],
   "source": [
    "a=input(\"첫 번째 문자열 입력:\")\n",
    "b=input(\"두 번째 문자열 입력:\")\n",
    "a+b"
   ]
  },
  {
   "cell_type": "code",
   "execution_count": 23,
   "id": "45c86d55-1399-4d69-8463-510360030ce4",
   "metadata": {},
   "outputs": [
    {
     "name": "stdout",
     "output_type": "stream",
     "text": [
      "20\n"
     ]
    }
   ],
   "source": [
    "a=10\n",
    "b=10\n",
    "c=a+b\n",
    "print(c)"
   ]
  },
  {
   "cell_type": "code",
   "execution_count": 28,
   "id": "cec402d7-ebc0-4886-bfb5-b1d7b5fb4cfb",
   "metadata": {},
   "outputs": [
    {
     "name": "stdout",
     "output_type": "stream",
     "text": [
      "20.0\n"
     ]
    }
   ],
   "source": [
    "a=10\n",
    "b=10\n",
    "c=float(a)+float(b)\n",
    "print(c)"
   ]
  },
  {
   "cell_type": "code",
   "execution_count": 24,
   "id": "cc6822c3-cc66-466b-bf09-cf036d18509d",
   "metadata": {},
   "outputs": [
    {
     "ename": "TypeError",
     "evalue": "unsupported operand type(s) for +: 'int' and 'str'",
     "output_type": "error",
     "traceback": [
      "\u001b[1;31m---------------------------------------------------------------------------\u001b[0m",
      "\u001b[1;31mTypeError\u001b[0m                                 Traceback (most recent call last)",
      "Cell \u001b[1;32mIn[24], line 2\u001b[0m\n\u001b[0;32m      1\u001b[0m d\u001b[38;5;241m=\u001b[39m\u001b[38;5;124m'\u001b[39m\u001b[38;5;124m10\u001b[39m\u001b[38;5;124m'\u001b[39m\n\u001b[1;32m----> 2\u001b[0m \u001b[38;5;28mprint\u001b[39m(c\u001b[38;5;241m+\u001b[39md)\n",
      "\u001b[1;31mTypeError\u001b[0m: unsupported operand type(s) for +: 'int' and 'str'"
     ]
    }
   ],
   "source": [
    "d='10'\n",
    "print(c+d)"
   ]
  },
  {
   "cell_type": "code",
   "execution_count": 25,
   "id": "e52c7deb-5263-40d8-b652-d01b5ed01ec1",
   "metadata": {},
   "outputs": [
    {
     "name": "stdout",
     "output_type": "stream",
     "text": [
      "30\n"
     ]
    }
   ],
   "source": [
    "d='10'\n",
    "print(c+int(d))"
   ]
  },
  {
   "cell_type": "code",
   "execution_count": 26,
   "id": "2e21c69d-49e0-45a8-a904-deb38c029bd9",
   "metadata": {},
   "outputs": [
    {
     "name": "stdout",
     "output_type": "stream",
     "text": [
      "2010\n"
     ]
    }
   ],
   "source": [
    "d='10'\n",
    "print(str(c)+d)"
   ]
  },
  {
   "cell_type": "code",
   "execution_count": 27,
   "id": "c42f24b3-5682-44c4-8ef1-1fb241fb65ac",
   "metadata": {},
   "outputs": [
    {
     "name": "stdout",
     "output_type": "stream",
     "text": [
      "13.14\n"
     ]
    }
   ],
   "source": [
    "e=3.14\n",
    "f=10\n",
    "print(e+f)"
   ]
  },
  {
   "cell_type": "markdown",
   "id": "1de2fc11-476e-4bb9-af20-590251256a49",
   "metadata": {},
   "source": [
    "### 리스트, 튜플, 딕셔너리, 세트"
   ]
  },
  {
   "cell_type": "code",
   "execution_count": 1,
   "id": "9f3f1826-7827-4ef9-85fe-ffff8df1c193",
   "metadata": {},
   "outputs": [
    {
     "name": "stdout",
     "output_type": "stream",
     "text": [
      "[1, 2, 3, 4, 5]\n",
      "1\n",
      "2\n"
     ]
    }
   ],
   "source": [
    "a_list=[1,2,3,4,5]\n",
    "print(a_list)\n",
    "print(a_list[0])\n",
    "print(a_list[1])"
   ]
  },
  {
   "cell_type": "code",
   "execution_count": 2,
   "id": "9f609126-7313-4fcf-a4a5-e8a48a060ac9",
   "metadata": {},
   "outputs": [
    {
     "name": "stdout",
     "output_type": "stream",
     "text": [
      "[1, 2]\n",
      "[3, 4, 5]\n"
     ]
    }
   ],
   "source": [
    "print(a_list[:2])\n",
    "print(a_list[2:])"
   ]
  },
  {
   "cell_type": "code",
   "execution_count": 3,
   "id": "10861ba5-7738-42a9-b1c2-8133ded099c8",
   "metadata": {},
   "outputs": [
    {
     "name": "stdout",
     "output_type": "stream",
     "text": [
      "[1, 2, 3]\n"
     ]
    }
   ],
   "source": [
    "b_list=[]\n",
    "b_list.append(1)\n",
    "b_list.append(2)\n",
    "b_list.append(3)\n",
    "print(b_list)"
   ]
  },
  {
   "cell_type": "code",
   "execution_count": 4,
   "id": "6d6c03ba-1942-4d1f-af60-c807f7555bb2",
   "metadata": {},
   "outputs": [
    {
     "name": "stdout",
     "output_type": "stream",
     "text": [
      "[1, 3, 14, 'hello', [1, 2, 3]]\n",
      "[3, 14]\n"
     ]
    }
   ],
   "source": [
    "c_list=[1,3,14,\"hello\",[1,2,3]]\n",
    "print(c_list)\n",
    "print(c_list[1:3])"
   ]
  },
  {
   "cell_type": "code",
   "execution_count": 5,
   "id": "fef9ecfd-5b4a-4792-9380-41c21e46b5b9",
   "metadata": {},
   "outputs": [
    {
     "name": "stdout",
     "output_type": "stream",
     "text": [
      "[1, 2, 3, 4, 5]\n",
      "[5, 2, 3, 4, 5]\n"
     ]
    }
   ],
   "source": [
    "d_list=[1,2,3,4,5]\n",
    "print(d_list)\n",
    "d_list[0]=5\n",
    "print(d_list)"
   ]
  },
  {
   "cell_type": "code",
   "execution_count": 6,
   "id": "8493b951-0e6f-4109-b5fd-3d1e62ea9794",
   "metadata": {},
   "outputs": [
    {
     "name": "stdout",
     "output_type": "stream",
     "text": [
      "(1, 2, 3, 4, 5)\n"
     ]
    }
   ],
   "source": [
    "a_tuple=(1,2,3,4,5)\n",
    "print(a_tuple)"
   ]
  },
  {
   "cell_type": "code",
   "execution_count": 7,
   "id": "2f9919ca-c666-44ec-8225-c568fa2a09e1",
   "metadata": {},
   "outputs": [
    {
     "ename": "TypeError",
     "evalue": "'tuple' object does not support item assignment",
     "output_type": "error",
     "traceback": [
      "\u001b[1;31m---------------------------------------------------------------------------\u001b[0m",
      "\u001b[1;31mTypeError\u001b[0m                                 Traceback (most recent call last)",
      "Cell \u001b[1;32mIn[7], line 1\u001b[0m\n\u001b[1;32m----> 1\u001b[0m a_tuple[\u001b[38;5;241m0\u001b[39m]\u001b[38;5;241m=\u001b[39m\u001b[38;5;241m5\u001b[39m\n",
      "\u001b[1;31mTypeError\u001b[0m: 'tuple' object does not support item assignment"
     ]
    }
   ],
   "source": [
    "a_tuple[0]=5"
   ]
  },
  {
   "cell_type": "code",
   "execution_count": 8,
   "id": "7adfb24d-b993-4b17-820b-95587bbfb188",
   "metadata": {},
   "outputs": [
    {
     "name": "stdout",
     "output_type": "stream",
     "text": [
      "{'a': 1, 'b': 2, 'c': '3'}\n",
      "1\n",
      "2\n",
      "3\n"
     ]
    }
   ],
   "source": [
    "a_dic={'a':1,'b':2,'c':'3'}\n",
    "print(a_dic)\n",
    "print(a_dic['a'])\n",
    "print(a_dic['b'])\n",
    "print(a_dic['c'])"
   ]
  },
  {
   "cell_type": "code",
   "execution_count": 9,
   "id": "5c5234fe-f5d2-434f-ae84-7aecad834845",
   "metadata": {
    "scrolled": true
   },
   "outputs": [
    {
     "name": "stdout",
     "output_type": "stream",
     "text": [
      "a\n",
      "[1, 2, 3]\n",
      "3\n"
     ]
    }
   ],
   "source": [
    "b_dic={1:'a','b':[1,2,3],'c':3}\n",
    "print(b_dic[1])\n",
    "print(b_dic['b'])\n",
    "print(b_dic['c'])"
   ]
  },
  {
   "cell_type": "code",
   "execution_count": 10,
   "id": "3aaabfb1-b208-434b-be6b-62b02024e0ee",
   "metadata": {},
   "outputs": [
    {
     "name": "stdout",
     "output_type": "stream",
     "text": [
      "{1: 'a', 'b': [1, 2, 3], 'c': 3, 'd': 4}\n"
     ]
    }
   ],
   "source": [
    "b_dic['d']=4\n",
    "print(b_dic)"
   ]
  },
  {
   "cell_type": "code",
   "execution_count": 11,
   "id": "9c1ca512-8108-4747-b820-09bc18d391a8",
   "metadata": {},
   "outputs": [
    {
     "name": "stdout",
     "output_type": "stream",
     "text": [
      "{1, 2, 3, 4}\n"
     ]
    }
   ],
   "source": [
    "a_set=set([1,2,3,4])\n",
    "print(a_set)"
   ]
  },
  {
   "cell_type": "code",
   "execution_count": 13,
   "id": "071d1029-c32d-43a0-b206-7966dadc11b5",
   "metadata": {},
   "outputs": [
    {
     "name": "stdout",
     "output_type": "stream",
     "text": [
      "{1, 2, 3, 4, 5, 6}\n"
     ]
    }
   ],
   "source": [
    "b_set=set([1,1,2,2,3,3,4,5,6])\n",
    "print(b_set)"
   ]
  },
  {
   "cell_type": "code",
   "execution_count": 14,
   "id": "9db6cebd-56e2-4bf8-8f36-7a30cacc15da",
   "metadata": {},
   "outputs": [
    {
     "name": "stdout",
     "output_type": "stream",
     "text": [
      "{'y', 't', 'h', 'o', 'n', 'p'}\n"
     ]
    }
   ],
   "source": [
    "c_set=set(\"python\")\n",
    "print(c_set)"
   ]
  },
  {
   "cell_type": "markdown",
   "id": "8706a141-b1f5-47a1-9f42-022e237d66a2",
   "metadata": {},
   "source": [
    "### 연산"
   ]
  },
  {
   "cell_type": "code",
   "execution_count": 15,
   "id": "d4829703-c221-4672-ae54-1cf9514802f5",
   "metadata": {},
   "outputs": [
    {
     "name": "stdout",
     "output_type": "stream",
     "text": [
      "더하기: 30\n",
      "빼기: -10\n",
      "곱하기: 200\n",
      "나누기: 6.666666666666667\n",
      "나누기(몫): 6\n",
      "나누기(나머지): 4\n",
      "거듭제곱: 100\n"
     ]
    }
   ],
   "source": [
    "print(\"더하기:\",10+20)\n",
    "print(\"빼기:\",10-20)\n",
    "print(\"곱하기:\",10*20)\n",
    "print(\"나누기:\",40/6)\n",
    "print(\"나누기(몫):\",40//6)\n",
    "print(\"나누기(나머지):\",40%6)\n",
    "print(\"거듭제곱:\", 10**2)"
   ]
  },
  {
   "cell_type": "code",
   "execution_count": 17,
   "id": "1bdd5e33-339e-407f-9d3a-2f03f9dd7d4e",
   "metadata": {},
   "outputs": [
    {
     "name": "stdout",
     "output_type": "stream",
     "text": [
      "0\n",
      "1\n",
      "1\n",
      "1\n",
      "False\n",
      "True\n",
      "True\n",
      "True\n"
     ]
    }
   ],
   "source": [
    "print(0 or 0)\n",
    "print(0 or 1)\n",
    "print(1 or 0)\n",
    "print(1 or 1)\n",
    "print(False or False)\n",
    "print(False or True)\n",
    "print(True or False)\n",
    "print(True or True)"
   ]
  },
  {
   "cell_type": "code",
   "execution_count": 18,
   "id": "d68d20d5-d143-49ce-ad43-dc555ab19747",
   "metadata": {},
   "outputs": [
    {
     "name": "stdout",
     "output_type": "stream",
     "text": [
      "0\n",
      "0\n",
      "0\n",
      "1\n",
      "False\n",
      "False\n",
      "False\n",
      "True\n"
     ]
    }
   ],
   "source": [
    "print(0 and 0)\n",
    "print(0 and 1)\n",
    "print(1 and 0)\n",
    "print(1 and 1)\n",
    "print(False and False)\n",
    "print(False and True)\n",
    "print(True and False)\n",
    "print(True and True)"
   ]
  },
  {
   "cell_type": "code",
   "execution_count": 19,
   "id": "ec078da2-ba97-4753-8f86-24fccd9b7c13",
   "metadata": {},
   "outputs": [
    {
     "name": "stdout",
     "output_type": "stream",
     "text": [
      "True\n",
      "False\n",
      "True\n",
      "False\n"
     ]
    }
   ],
   "source": [
    "print(not 0)\n",
    "print(not 1)\n",
    "print(not False)\n",
    "print(not True)"
   ]
  },
  {
   "cell_type": "code",
   "execution_count": 20,
   "id": "4010fca5-6897-4a81-b1a2-65ae10d8a820",
   "metadata": {},
   "outputs": [
    {
     "name": "stdout",
     "output_type": "stream",
     "text": [
      "True\n",
      "True\n",
      "True\n",
      "False\n",
      "True\n",
      "False\n"
     ]
    }
   ],
   "source": [
    "print(10 == 10)\n",
    "print(10 >= 10)\n",
    "print(10 <= 10)\n",
    "print(10 < 5)\n",
    "print(10 > 5)\n",
    "print(10 != 10)"
   ]
  },
  {
   "cell_type": "code",
   "execution_count": 21,
   "id": "530bc17a-8371-48e2-9258-53b900bd636c",
   "metadata": {},
   "outputs": [
    {
     "name": "stdout",
     "output_type": "stream",
     "text": [
      "True\n",
      "False\n",
      "True\n",
      "True\n"
     ]
    }
   ],
   "source": [
    "a_list=['a', 2, 'hello', 3]\n",
    "print('a' in a_list)\n",
    "print(1 in a_list)\n",
    "print('hello' in a_list)\n",
    "print(3 in a_list)"
   ]
  },
  {
   "cell_type": "code",
   "execution_count": 22,
   "id": "4f6c26fe-b562-4656-a69d-7159c313eb45",
   "metadata": {},
   "outputs": [
    {
     "name": "stdout",
     "output_type": "stream",
     "text": [
      "True\n",
      "True\n",
      "False\n"
     ]
    }
   ],
   "source": [
    "a_str=\"hello python\"\n",
    "print(\"python\" in a_str)\n",
    "print(\"py\" in a_str)\n",
    "print(\"40\" in a_str)"
   ]
  },
  {
   "cell_type": "markdown",
   "id": "b693516f-3c31-4915-a8cf-798d77e0cb34",
   "metadata": {},
   "source": [
    "### 조건문"
   ]
  },
  {
   "cell_type": "code",
   "execution_count": 1,
   "id": "dd1db910-730a-47f9-9c7d-92ddc099a663",
   "metadata": {},
   "outputs": [
    {
     "name": "stdout",
     "output_type": "stream",
     "text": [
      "same\n"
     ]
    }
   ],
   "source": [
    "a=1\n",
    "b=1\n",
    "if a==b:\n",
    "    print(\"same\")\n",
    "if a!=b:\n",
    "    print(\"not same\")"
   ]
  },
  {
   "cell_type": "code",
   "execution_count": 3,
   "id": "bb0018f8-04a9-4fd8-963a-3e07ab023e1e",
   "metadata": {},
   "outputs": [
    {
     "name": "stdout",
     "output_type": "stream",
     "text": [
      "not same\n"
     ]
    }
   ],
   "source": [
    "a=1\n",
    "b=2\n",
    "if a==b:\n",
    "    print(\"same\")\n",
    "elif a!=b:\n",
    "    print(\"not same\")"
   ]
  },
  {
   "cell_type": "code",
   "execution_count": 4,
   "id": "d6aa3e9e-f8b7-4daa-82b5-39eef929ac46",
   "metadata": {},
   "outputs": [
    {
     "name": "stdout",
     "output_type": "stream",
     "text": [
      "b값이 더 큼\n"
     ]
    }
   ],
   "source": [
    "a=1\n",
    "b=2\n",
    "if a>b:\n",
    "    print(\"a값이 더 큼\")\n",
    "elif a<b:\n",
    "    print(\"b값이 더 큼\")\n",
    "else:\n",
    "    print(\"두 값이 같음\")"
   ]
  },
  {
   "cell_type": "code",
   "execution_count": 7,
   "id": "b0254c39-c782-4a58-9d11-a96d4ac3a6ed",
   "metadata": {},
   "outputs": [
    {
     "name": "stdout",
     "output_type": "stream",
     "text": [
      "a값이 더 크거나 같음\n",
      "b값이 더 크거나 같음\n"
     ]
    }
   ],
   "source": [
    "a=1\n",
    "b=1\n",
    "if a>=b:\n",
    "    print(\"a값이 더 크거나 같음\")\n",
    "if a<=b:\n",
    "    print(\"b값이 더 크거나 같음\")"
   ]
  },
  {
   "cell_type": "code",
   "execution_count": 8,
   "id": "f711a240-0d0e-4296-b554-13596fc66784",
   "metadata": {},
   "outputs": [
    {
     "name": "stdout",
     "output_type": "stream",
     "text": [
      "두 조건 모두 만족\n",
      "조건 중 하나라도 만족\n"
     ]
    }
   ],
   "source": [
    "a=1\n",
    "b=1\n",
    "c=2\n",
    "d=2\n",
    "if a==b and c==d:\n",
    "    print(\"두 조건 모두 만족\")\n",
    "if a==b or c==d:\n",
    "    print(\"조건 중 하나라도 만족\")"
   ]
  },
  {
   "cell_type": "code",
   "execution_count": 9,
   "id": "d152195f-ab80-4ac7-bf2b-45d287045694",
   "metadata": {},
   "outputs": [
    {
     "name": "stdout",
     "output_type": "stream",
     "text": [
      "hello python과 같음\n",
      "hello가 포함됨\n",
      "hi가 포함되지 않음\n"
     ]
    }
   ],
   "source": [
    "a_str=\"hello python\"\n",
    "if a_str==\"hello python\":\n",
    "    print(\"hello python과 같음\")\n",
    "if a_str==\"hi python\":\n",
    "    print(\"hi python과 같음\")\n",
    "if \"hello\" in a_str:\n",
    "    print(\"hello가 포함됨\")\n",
    "if \"hello\" not in a_str:\n",
    "    print(\"hello가 포함되지 않음\")\n",
    "if \"hi\" not in a_str:\n",
    "    print(\"hi가 포함되지 않음\")\n"
   ]
  },
  {
   "cell_type": "code",
   "execution_count": 10,
   "id": "4fda8847-4495-4915-8de2-a5533cf80875",
   "metadata": {},
   "outputs": [
    {
     "name": "stdout",
     "output_type": "stream",
     "text": [
      "안녕이 포함됨\n",
      "2가 포함됨\n"
     ]
    }
   ],
   "source": [
    "a_list=[\"안녕\",1,2,\"파이썬\"]\n",
    "if \"안녕\" in a_list:\n",
    "    print(\"안녕이 포함됨\")\n",
    "if 2 in a_list:\n",
    "    print(\"2가 포함됨\")"
   ]
  },
  {
   "cell_type": "code",
   "execution_count": 11,
   "id": "45c1a147-30e7-42a4-ab97-13b4f00c414a",
   "metadata": {},
   "outputs": [
    {
     "name": "stdout",
     "output_type": "stream",
     "text": [
      "5가 포함되지 않음\n"
     ]
    }
   ],
   "source": [
    "a_list=[\"안녕\",1,2,\"파이썬\"]\n",
    "if \"안녕\" not in a_list:\n",
    "    print(\"안녕이 포함되지 않음\")\n",
    "if 5 not in a_list:\n",
    "    print(\"5가 포함되지 않음\")"
   ]
  },
  {
   "cell_type": "markdown",
   "id": "6bfc5421-de13-40e2-b927-5ee8ea223296",
   "metadata": {},
   "source": [
    "### 반복문"
   ]
  },
  {
   "cell_type": "code",
   "execution_count": 12,
   "id": "419a744a-8844-4810-abfc-c08062cfe65c",
   "metadata": {},
   "outputs": [
    {
     "name": "stdout",
     "output_type": "stream",
     "text": [
      "0\n",
      "1\n",
      "2\n",
      "3\n",
      "4\n",
      "5\n",
      "6\n"
     ]
    }
   ],
   "source": [
    "for i in range(7):\n",
    "    print(i)"
   ]
  },
  {
   "cell_type": "code",
   "execution_count": 13,
   "id": "5ab8d084-e8b7-4032-ac06-cb8e9c330dca",
   "metadata": {},
   "outputs": [
    {
     "name": "stdout",
     "output_type": "stream",
     "text": [
      "5\n",
      "6\n",
      "7\n",
      "8\n",
      "9\n"
     ]
    }
   ],
   "source": [
    "for i in range(5,10):\n",
    "    print(i)"
   ]
  },
  {
   "cell_type": "code",
   "execution_count": 15,
   "id": "5986852a-8c94-40d3-a7e8-0009ff2007eb",
   "metadata": {},
   "outputs": [
    {
     "name": "stdout",
     "output_type": "stream",
     "text": [
      "10\n",
      "9\n",
      "8\n",
      "7\n",
      "6\n"
     ]
    }
   ],
   "source": [
    "for i in range(10,5,-1):\n",
    "    print(i)"
   ]
  },
  {
   "cell_type": "code",
   "execution_count": 16,
   "id": "b9edd426-2a77-4c7f-b4dc-f0280ef99b80",
   "metadata": {},
   "outputs": [
    {
     "name": "stdout",
     "output_type": "stream",
     "text": [
      "1\n",
      "2\n",
      "3\n",
      "4\n",
      "5\n",
      "안녕\n",
      "하세요\n"
     ]
    }
   ],
   "source": [
    "a_list=[1,2,3,4,5,\"안녕\",\"하세요\"]\n",
    "for i in a_list:\n",
    "    print(i)"
   ]
  },
  {
   "cell_type": "code",
   "execution_count": 17,
   "id": "b81779de-65b0-4966-91e7-58d0929aebe9",
   "metadata": {},
   "outputs": [
    {
     "name": "stdout",
     "output_type": "stream",
     "text": [
      "h\n",
      "e\n",
      "l\n",
      "l\n",
      "o\n",
      " \n",
      "p\n",
      "y\n",
      "t\n",
      "h\n",
      "o\n",
      "n\n"
     ]
    }
   ],
   "source": [
    "a_str=\"hello python\"\n",
    "for i in a_str:\n",
    "    print(i)"
   ]
  },
  {
   "cell_type": "code",
   "execution_count": 18,
   "id": "53e0e7c2-4230-447a-8036-aade62b2fd91",
   "metadata": {},
   "outputs": [
    {
     "name": "stdout",
     "output_type": "stream",
     "text": [
      "i= 0 k= 홍길동\n",
      "i= 1 k= 장다인\n",
      "i= 2 k= 김철수\n"
     ]
    }
   ],
   "source": [
    "name_list=[\"홍길동\",\"장다인\",\"김철수\"]\n",
    "age_list=[500,5,12]\n",
    "for i,k in enumerate(name_list):\n",
    "    print(\"i=\",i,end=' ')\n",
    "    print(\"k=\",k)"
   ]
  },
  {
   "cell_type": "code",
   "execution_count": 19,
   "id": "a4a01874-fa6d-4c0c-9ae0-a2de00229d35",
   "metadata": {},
   "outputs": [
    {
     "name": "stdout",
     "output_type": "stream",
     "text": [
      "홍길동 500\n",
      "장다인 5\n",
      "김철수 12\n",
      "홍길동 500\n",
      "장다인 5\n",
      "김철수 12\n"
     ]
    }
   ],
   "source": [
    "name_list=[\"홍길동\",\"장다인\",\"김철수\"]\n",
    "age_list=[500,5,12]\n",
    "for i,k in enumerate(name_list):\n",
    "    print(k,end=' ')\n",
    "    print(age_list[i])\n",
    "for i,k in enumerate(name_list):\n",
    "    print(name_list[i],end=' ')\n",
    "    print(age_list[i])\n"
   ]
  },
  {
   "cell_type": "code",
   "execution_count": 20,
   "id": "fbcca198-d203-4bd1-9d25-6fc2bfa2863e",
   "metadata": {},
   "outputs": [
    {
     "name": "stdout",
     "output_type": "stream",
     "text": [
      "홍길동 500\n",
      "장다인 5\n",
      "김철수 12\n"
     ]
    }
   ],
   "source": [
    "name_list=[\"홍길동\",\"장다인\",\"김철수\"]\n",
    "age_list=[500,5,12]\n",
    "for i in range(len(name_list)):\n",
    "    print(name_list[i], end=' ')\n",
    "    print(age_list[i])"
   ]
  },
  {
   "cell_type": "code",
   "execution_count": 22,
   "id": "f793cc9b-2d4c-4eb6-ac7f-01c0b156afd8",
   "metadata": {},
   "outputs": [
    {
     "name": "stdout",
     "output_type": "stream",
     "text": [
      "[0, 1, 2, 3, 4, 5, 6, 7, 8, 9]\n",
      "[0, 1, 2, 3, 4, 5, 6, 7, 8, 9]\n"
     ]
    }
   ],
   "source": [
    "test_list=[i for i in range(10)]\n",
    "print(test_list)\n",
    "\n",
    "test2_list=[]\n",
    "for i in range(10):\n",
    "    test2_list.append(i)\n",
    "print(test2_list)"
   ]
  },
  {
   "cell_type": "code",
   "execution_count": 25,
   "id": "5a471b97-0fe0-42e1-877c-ebef3cdfe99d",
   "metadata": {},
   "outputs": [
    {
     "name": "stdout",
     "output_type": "stream",
     "text": [
      "[0, 5, 10, 15, 20, 25, 30, 35, 40, 45]\n",
      "[0, 0, 0, 0, 0, 0, 0, 0, 0, 0]\n"
     ]
    }
   ],
   "source": [
    "test_list=[i*5 for i in range(10)]\n",
    "print(test_list)\n",
    "test2_list=[0 for i in range(10)]\n",
    "print(test2_list)"
   ]
  },
  {
   "cell_type": "code",
   "execution_count": 26,
   "id": "8bc145c1-4a14-443b-91f1-0e5a6e960eaa",
   "metadata": {},
   "outputs": [
    {
     "name": "stdout",
     "output_type": "stream",
     "text": [
      "0\n",
      "1\n",
      "2\n",
      "3\n",
      "4\n"
     ]
    }
   ],
   "source": [
    "a=0\n",
    "while a<5:\n",
    "    print(a)\n",
    "    a=a+1"
   ]
  },
  {
   "cell_type": "code",
   "execution_count": 27,
   "id": "97cf63b7-ff5b-430c-afec-b7679a548374",
   "metadata": {},
   "outputs": [
    {
     "name": "stdout",
     "output_type": "stream",
     "text": [
      "0\n",
      "1\n",
      "2\n",
      "3\n",
      "4\n"
     ]
    }
   ],
   "source": [
    "a=0\n",
    "while True:\n",
    "    print(a)\n",
    "    a=a+1\n",
    "    if a>=5:\n",
    "        break"
   ]
  },
  {
   "cell_type": "markdown",
   "id": "04637a8b-eda8-4e59-a2f5-6e200a56f970",
   "metadata": {},
   "source": [
    "### 예외처리"
   ]
  },
  {
   "cell_type": "code",
   "execution_count": 28,
   "id": "bd3549ee-b48e-467d-bdb3-f96e8d94af52",
   "metadata": {},
   "outputs": [
    {
     "ename": "NameError",
     "evalue": "name 'sdlkfjslf' is not defined",
     "output_type": "error",
     "traceback": [
      "\u001b[1;31m---------------------------------------------------------------------------\u001b[0m",
      "\u001b[1;31mNameError\u001b[0m                                 Traceback (most recent call last)",
      "Cell \u001b[1;32mIn[28], line 1\u001b[0m\n\u001b[1;32m----> 1\u001b[0m sdlkfjslf\n",
      "\u001b[1;31mNameError\u001b[0m: name 'sdlkfjslf' is not defined"
     ]
    }
   ],
   "source": [
    "sdlkfjslf"
   ]
  },
  {
   "cell_type": "code",
   "execution_count": 29,
   "id": "a1ba5237-5b77-4e0c-89b1-1bbff670ebb6",
   "metadata": {},
   "outputs": [
    {
     "name": "stdout",
     "output_type": "stream",
     "text": [
      "Error\n"
     ]
    }
   ],
   "source": [
    "try:\n",
    "    tlkdjslfkd\n",
    "except:\n",
    "    print(\"Error\")"
   ]
  },
  {
   "cell_type": "code",
   "execution_count": 31,
   "id": "5b521550-7270-4011-9c5f-397de3e7f56a",
   "metadata": {},
   "outputs": [
    {
     "name": "stdout",
     "output_type": "stream",
     "text": [
      "에러를 무시\n"
     ]
    }
   ],
   "source": [
    "try:\n",
    "    sdlkfjsdlfk\n",
    "except:\n",
    "    pass\n",
    "print(\"에러를 무시\")"
   ]
  },
  {
   "cell_type": "code",
   "execution_count": 32,
   "id": "a2de045a-d2b8-4db8-84ed-221661d6407d",
   "metadata": {},
   "outputs": [
    {
     "name": "stdout",
     "output_type": "stream",
     "text": [
      "에러발생원인 name 'sldkfjasd' is not defined\n"
     ]
    }
   ],
   "source": [
    "try:\n",
    "    sldkfjasd\n",
    "except Exception as e:\n",
    "    print(\"에러발생원인\", e)"
   ]
  },
  {
   "cell_type": "markdown",
   "id": "75b4de57-7652-4e8a-8fdb-c598873c1b9b",
   "metadata": {},
   "source": [
    "### 함수"
   ]
  },
  {
   "cell_type": "code",
   "execution_count": 1,
   "id": "cd984d1b-c157-4d98-ba80-483a8b79c9b2",
   "metadata": {},
   "outputs": [
    {
     "name": "stdout",
     "output_type": "stream",
     "text": [
      "안녕하세요\n"
     ]
    }
   ],
   "source": [
    "def func():\n",
    "    print(\"안녕하세요\")\n",
    "\n",
    "func()"
   ]
  },
  {
   "cell_type": "code",
   "execution_count": 2,
   "id": "39eee3ed-57e5-4bb1-82d2-53282316e767",
   "metadata": {},
   "outputs": [
    {
     "name": "stdout",
     "output_type": "stream",
     "text": [
      "안녕하세요\n",
      "안녕하세요\n",
      "안녕하세요\n"
     ]
    }
   ],
   "source": [
    "for i in range(3):\n",
    "    func()"
   ]
  },
  {
   "cell_type": "code",
   "execution_count": 3,
   "id": "0bfc0874-f0e6-4dae-95e4-1e6e4cce5003",
   "metadata": {},
   "outputs": [
    {
     "name": "stdout",
     "output_type": "stream",
     "text": [
      "3\n"
     ]
    }
   ],
   "source": [
    "def funcAdd(a,b):\n",
    "    return a+b\n",
    "\n",
    "c=funcAdd(1,2)\n",
    "print(c)"
   ]
  },
  {
   "cell_type": "code",
   "execution_count": 4,
   "id": "179bd148-da87-4fdb-b4b8-38e777ae493d",
   "metadata": {},
   "outputs": [
    {
     "name": "stdout",
     "output_type": "stream",
     "text": [
      "6\n"
     ]
    }
   ],
   "source": [
    "def funcMux(a,b):\n",
    "    mux=a*b\n",
    "    return mux\n",
    "\n",
    "c=funcMux(2,3)\n",
    "print(c)"
   ]
  },
  {
   "cell_type": "code",
   "execution_count": 6,
   "id": "ba3cd6e7-1260-4e10-9239-b34bd48aa3f7",
   "metadata": {},
   "outputs": [
    {
     "name": "stdout",
     "output_type": "stream",
     "text": [
      "4 3\n"
     ]
    }
   ],
   "source": [
    "def funcAddMux(a,b):\n",
    "    add=a+b\n",
    "    mux=a*b\n",
    "    return add,mux\n",
    "\n",
    "a,b=funcAddMux(1,3)\n",
    "print(a,b)"
   ]
  },
  {
   "cell_type": "code",
   "execution_count": 7,
   "id": "164eeb41-0446-4aa4-b22b-253e7c15b306",
   "metadata": {},
   "outputs": [
    {
     "name": "stdout",
     "output_type": "stream",
     "text": [
      "3\n"
     ]
    }
   ],
   "source": [
    "def funcAddMux(a,b):\n",
    "    add=a+b\n",
    "    mux=a*b\n",
    "    return add,mux\n",
    "\n",
    "_,b=funcAddMux(1,3)\n",
    "print(b)"
   ]
  },
  {
   "cell_type": "markdown",
   "id": "601f680f-5496-4776-970d-3183dd272928",
   "metadata": {},
   "source": [
    "### 클래스"
   ]
  },
  {
   "cell_type": "code",
   "execution_count": 8,
   "id": "082b0c13-714d-482c-a62e-09f6c1a2079b",
   "metadata": {},
   "outputs": [
    {
     "name": "stdout",
     "output_type": "stream",
     "text": [
      "hello\n",
      "hi\n",
      "hello\n",
      "hi\n"
     ]
    }
   ],
   "source": [
    "class Greet():\n",
    "    def hello(self):\n",
    "        print(\"hello\")\n",
    "    def hi(self):\n",
    "        print(\"hi\")\n",
    "\n",
    "human1=Greet()\n",
    "human2=Greet()\n",
    "human1.hello()\n",
    "human1.hi()\n",
    "human2.hello()\n",
    "human2.hi()"
   ]
  },
  {
   "cell_type": "code",
   "execution_count": 10,
   "id": "da6cb8c3-4f9e-4f85-bb40-377b35b60a36",
   "metadata": {},
   "outputs": [
    {
     "name": "stdout",
     "output_type": "stream",
     "text": [
      "이름:김철수,나이:17,취미:축구\n",
      "이름:김영희,나이:15,취미:야구\n"
     ]
    }
   ],
   "source": [
    "class Student():\n",
    "    def __init__(self,name,age,like):\n",
    "        self.name=name\n",
    "        self.age=age\n",
    "        self.like=like\n",
    "    def studentInfo(self):\n",
    "        print(f\"이름:{self.name},나이:{self.age},취미:{self.like}\")\n",
    "\n",
    "김철수=Student(\"김철수\",17,\"축구\")\n",
    "김영희=Student(\"김영희\",15,\"야구\")\n",
    "김철수.studentInfo()\n",
    "김영희.studentInfo()"
   ]
  },
  {
   "cell_type": "code",
   "execution_count": 13,
   "id": "9f0d2781-e1e6-4366-85dc-7ce1697818fc",
   "metadata": {},
   "outputs": [
    {
     "name": "stdout",
     "output_type": "stream",
     "text": [
      "엄마는\n",
      "키가 크다\n",
      "공부를 잘한다\n",
      "딸은\n",
      "키가 크다\n",
      "공부를 잘한다\n",
      "운동을 잘한다\n"
     ]
    }
   ],
   "source": [
    "class Mother():\n",
    "    def character(self):\n",
    "        print(\"키가 크다\")\n",
    "        print(\"공부를 잘한다\")\n",
    "class Daugther(Mother):\n",
    "    def character(self):\n",
    "        super().character()\n",
    "        print(\"운동을 잘한다\")\n",
    "\n",
    "엄마=Mother()\n",
    "딸=Daugther()\n",
    "print(\"엄마는\")\n",
    "엄마.character()\n",
    "print(\"딸은\")\n",
    "딸.character()"
   ]
  },
  {
   "cell_type": "code",
   "execution_count": 14,
   "id": "9fa523f0-d79b-4ab4-b852-0226b7abe5b9",
   "metadata": {},
   "outputs": [
    {
     "name": "stdout",
     "output_type": "stream",
     "text": [
      "엄마는\n",
      "키가 크다\n",
      "공부를 잘한다\n",
      "딸은\n",
      "키가 크다\n",
      "공부를 잘한다\n",
      "운동을 잘한다\n"
     ]
    }
   ],
   "source": [
    "class Mother():\n",
    "    def __init__(self):\n",
    "        print(\"키가 크다\")\n",
    "        print(\"공부를 잘한다\")\n",
    "class Daugther(Mother):\n",
    "    def __init__(self):\n",
    "        super().__init__()\n",
    "        print(\"운동을 잘한다\")\n",
    "\n",
    "\n",
    "print(\"엄마는\")\n",
    "엄마=Mother()\n",
    "print(\"딸은\")\n",
    "딸=Daugther()"
   ]
  },
  {
   "cell_type": "markdown",
   "id": "951ebed7-576d-46d5-b02a-177a62c4f510",
   "metadata": {},
   "source": [
    "### 주석"
   ]
  },
  {
   "cell_type": "code",
   "execution_count": 19,
   "id": "85bf1bbc-0d95-4bb8-8dd9-cd8c88473dbd",
   "metadata": {},
   "outputs": [
    {
     "name": "stdout",
     "output_type": "stream",
     "text": [
      "hello\n",
      "hello\n"
     ]
    },
    {
     "data": {
      "text/plain": [
       "'여러줄\\n주석처리\\n방법 2'"
      ]
     },
     "execution_count": 19,
     "metadata": {},
     "output_type": "execute_result"
    }
   ],
   "source": [
    "#주석 사용\n",
    "print(\"hello\") #코드 줄 끝에 붙여서도 사용 가능\n",
    "#print(\"hi\") 코드 자체를 막을수도 있음\n",
    "\n",
    "\"\"\"여러줄\n",
    "주석처리\n",
    "방법 1\"\"\"\n",
    "\n",
    "print(\"hello\")\n",
    "\n",
    "'''여러줄\n",
    "주석처리\n",
    "방법 2'''"
   ]
  },
  {
   "cell_type": "markdown",
   "id": "63bafab6-b321-4c26-85ba-df119a51f8f7",
   "metadata": {},
   "source": [
    "### import"
   ]
  },
  {
   "cell_type": "code",
   "execution_count": 20,
   "id": "f883df61-4c5e-497b-8d27-e5615efc051e",
   "metadata": {},
   "outputs": [
    {
     "name": "stdout",
     "output_type": "stream",
     "text": [
      "48\n"
     ]
    }
   ],
   "source": [
    "import random\n",
    "print(random.randint(1,100))"
   ]
  },
  {
   "cell_type": "code",
   "execution_count": 21,
   "id": "778b6317-1f36-4394-9489-ec3afb770c51",
   "metadata": {},
   "outputs": [
    {
     "name": "stdout",
     "output_type": "stream",
     "text": [
      "15\n"
     ]
    }
   ],
   "source": [
    "import random as rd\n",
    "print(rd.randint(1,100))"
   ]
  },
  {
   "cell_type": "code",
   "execution_count": 22,
   "id": "9cb8e31a-86d0-4df3-97fb-3c57cab1eef2",
   "metadata": {},
   "outputs": [
    {
     "name": "stdout",
     "output_type": "stream",
     "text": [
      "47\n"
     ]
    }
   ],
   "source": [
    "from random import randint\n",
    "print(randint(1,100))"
   ]
  },
  {
   "cell_type": "code",
   "execution_count": 24,
   "id": "f13c7e13-2ca0-4fb8-a4ea-2d282828d274",
   "metadata": {},
   "outputs": [
    {
     "name": "stdout",
     "output_type": "stream",
     "text": [
      "79\n"
     ]
    }
   ],
   "source": [
    "from random import *\n",
    "print(randint(1,100))"
   ]
  },
  {
   "cell_type": "code",
   "execution_count": null,
   "id": "eac79a85-62e8-43e5-9099-15357ccc5924",
   "metadata": {},
   "outputs": [],
   "source": []
  }
 ],
 "metadata": {
  "kernelspec": {
   "display_name": "Python 3 (ipykernel)",
   "language": "python",
   "name": "python3"
  },
  "language_info": {
   "codemirror_mode": {
    "name": "ipython",
    "version": 3
   },
   "file_extension": ".py",
   "mimetype": "text/x-python",
   "name": "python",
   "nbconvert_exporter": "python",
   "pygments_lexer": "ipython3",
   "version": "3.11.7"
  }
 },
 "nbformat": 4,
 "nbformat_minor": 5
}
