{
 "cells": [
  {
   "cell_type": "code",
   "execution_count": 8,
   "id": "76558942-571a-4d00-901b-1a86047203bd",
   "metadata": {},
   "outputs": [
    {
     "name": "stdout",
     "output_type": "stream",
     "text": [
      "hello\n"
     ]
    }
   ],
   "source": [
    "print('hello')"
   ]
  },
  {
   "cell_type": "code",
   "execution_count": 29,
   "id": "0f2d56da-3435-4603-8bea-5fb14298b1fa",
   "metadata": {},
   "outputs": [
    {
     "name": "stdout",
     "output_type": "stream",
     "text": [
      "hello\n"
     ]
    }
   ],
   "source": [
    "print(\"hello\")"
   ]
  },
  {
   "cell_type": "code",
   "execution_count": 9,
   "id": "ba71e8b1-f509-4140-b51a-a91f99165b2e",
   "metadata": {},
   "outputs": [
    {
     "name": "stdout",
     "output_type": "stream",
     "text": [
      "hello \"안녕하세요\"\n"
     ]
    }
   ],
   "source": [
    "print('hello \"안녕하세요\"')"
   ]
  },
  {
   "cell_type": "code",
   "execution_count": 10,
   "id": "35b6d61b-977c-4157-a804-4c5014bf2a20",
   "metadata": {},
   "outputs": [
    {
     "name": "stdout",
     "output_type": "stream",
     "text": [
      "hello '안녕하세요'\n"
     ]
    }
   ],
   "source": [
    "print(\"hello '안녕하세요'\")"
   ]
  },
  {
   "cell_type": "code",
   "execution_count": 11,
   "id": "b17cb403-839d-4eb7-831b-724053c2accf",
   "metadata": {},
   "outputs": [
    {
     "name": "stdout",
     "output_type": "stream",
     "text": [
      "안녕 하세요 반갑습니다\n"
     ]
    }
   ],
   "source": [
    "print('안녕','하세요','반갑습니다')"
   ]
  },
  {
   "cell_type": "code",
   "execution_count": 12,
   "id": "f5aa0d28-2ee6-4e73-b751-cc5405720e16",
   "metadata": {},
   "outputs": [
    {
     "name": "stdout",
     "output_type": "stream",
     "text": [
      "안녕하세요반갑습니다\n"
     ]
    }
   ],
   "source": [
    "print('안녕'+'하세요'+'반갑습니다')"
   ]
  },
  {
   "cell_type": "code",
   "execution_count": 13,
   "id": "b2d8d2a3-b560-4d9e-80a6-bf5befebc31c",
   "metadata": {},
   "outputs": [
    {
     "name": "stdout",
     "output_type": "stream",
     "text": [
      "안녕하세요\n",
      "오늘은 날씨가 좋네요\n"
     ]
    }
   ],
   "source": [
    "print(\"\"\"안녕하세요\n",
    "오늘은 날씨가 좋네요\"\"\")"
   ]
  },
  {
   "cell_type": "code",
   "execution_count": 14,
   "id": "9358c690-979e-4194-8a85-68df8057d66d",
   "metadata": {},
   "outputs": [
    {
     "name": "stdout",
     "output_type": "stream",
     "text": [
      "안녕하세요\n",
      "오늘은 날씨가 좋네요\n"
     ]
    }
   ],
   "source": [
    "print('''안녕하세요\n",
    "오늘은 날씨가 좋네요''')"
   ]
  },
  {
   "cell_type": "code",
   "execution_count": 16,
   "id": "df03e0a7-9ee4-495f-8004-3c0210d41d10",
   "metadata": {},
   "outputs": [
    {
     "name": "stdout",
     "output_type": "stream",
     "text": [
      "a값:123 b값:안녕하세요\n"
     ]
    }
   ],
   "source": [
    "a=123\n",
    "b=\"안녕하세요\"\n",
    "print(\"a값:{} b값:{}\" .format(a,b))"
   ]
  },
  {
   "cell_type": "code",
   "execution_count": 17,
   "id": "6de57d0e-f1b2-43e9-9417-ed73c47fd8ae",
   "metadata": {},
   "outputs": [
    {
     "name": "stdout",
     "output_type": "stream",
     "text": [
      "a값:123 b값:안녕하세요\n"
     ]
    }
   ],
   "source": [
    "a=123\n",
    "b=\"안녕하세요\"\n",
    "print(f\"a값:{a} b값:{b}\")"
   ]
  },
  {
   "cell_type": "code",
   "execution_count": 18,
   "id": "ab6da607-6889-4990-bc15-2d17d29b0273",
   "metadata": {},
   "outputs": [
    {
     "name": "stdin",
     "output_type": "stream",
     "text": [
      " 안녕하세요\n"
     ]
    },
    {
     "data": {
      "text/plain": [
       "'안녕하세요'"
      ]
     },
     "execution_count": 18,
     "metadata": {},
     "output_type": "execute_result"
    }
   ],
   "source": [
    "input()"
   ]
  },
  {
   "cell_type": "code",
   "execution_count": 19,
   "id": "db5854d2-c2f5-43a7-a005-ab1a9f4d1928",
   "metadata": {},
   "outputs": [
    {
     "name": "stdin",
     "output_type": "stream",
     "text": [
      " 123\n"
     ]
    },
    {
     "data": {
      "text/plain": [
       "'123'"
      ]
     },
     "execution_count": 19,
     "metadata": {},
     "output_type": "execute_result"
    }
   ],
   "source": [
    "input()"
   ]
  },
  {
   "cell_type": "code",
   "execution_count": 20,
   "id": "00a23cc5-983f-4cd9-8dfa-2f862efb17bd",
   "metadata": {},
   "outputs": [
    {
     "name": "stdin",
     "output_type": "stream",
     "text": [
      "값을 입력하여 주세요: 안녕하세요\n"
     ]
    },
    {
     "data": {
      "text/plain": [
       "'안녕하세요'"
      ]
     },
     "execution_count": 20,
     "metadata": {},
     "output_type": "execute_result"
    }
   ],
   "source": [
    "input(\"값을 입력하여 주세요:\")"
   ]
  },
  {
   "cell_type": "code",
   "execution_count": 21,
   "id": "1c1e995a-556c-4dcc-9943-42c19daff1d8",
   "metadata": {},
   "outputs": [
    {
     "name": "stdin",
     "output_type": "stream",
     "text": [
      "첫 번째 문자열 입력: 안녕\n",
      "두 번째 문자열 입력: 하세요\n"
     ]
    },
    {
     "data": {
      "text/plain": [
       "'안녕하세요'"
      ]
     },
     "execution_count": 21,
     "metadata": {},
     "output_type": "execute_result"
    }
   ],
   "source": [
    "a=input(\"첫 번째 문자열 입력:\")\n",
    "b=input(\"두 번째 문자열 입력:\")\n",
    "a+b"
   ]
  },
  {
   "cell_type": "code",
   "execution_count": 22,
   "id": "a046c202-156f-420d-aceb-67bceace3e34",
   "metadata": {},
   "outputs": [
    {
     "name": "stdin",
     "output_type": "stream",
     "text": [
      "첫 번째 문자열 입력: 100\n",
      "두 번째 문자열 입력: 200\n"
     ]
    },
    {
     "data": {
      "text/plain": [
       "'100200'"
      ]
     },
     "execution_count": 22,
     "metadata": {},
     "output_type": "execute_result"
    }
   ],
   "source": [
    "a=input(\"첫 번째 문자열 입력:\")\n",
    "b=input(\"두 번째 문자열 입력:\")\n",
    "a+b"
   ]
  },
  {
   "cell_type": "code",
   "execution_count": 23,
   "id": "45c86d55-1399-4d69-8463-510360030ce4",
   "metadata": {},
   "outputs": [
    {
     "name": "stdout",
     "output_type": "stream",
     "text": [
      "20\n"
     ]
    }
   ],
   "source": [
    "a=10\n",
    "b=10\n",
    "c=a+b\n",
    "print(c)"
   ]
  },
  {
   "cell_type": "code",
   "execution_count": 28,
   "id": "cec402d7-ebc0-4886-bfb5-b1d7b5fb4cfb",
   "metadata": {},
   "outputs": [
    {
     "name": "stdout",
     "output_type": "stream",
     "text": [
      "20.0\n"
     ]
    }
   ],
   "source": [
    "a=10\n",
    "b=10\n",
    "c=float(a)+float(b)\n",
    "print(c)"
   ]
  },
  {
   "cell_type": "code",
   "execution_count": 24,
   "id": "cc6822c3-cc66-466b-bf09-cf036d18509d",
   "metadata": {},
   "outputs": [
    {
     "ename": "TypeError",
     "evalue": "unsupported operand type(s) for +: 'int' and 'str'",
     "output_type": "error",
     "traceback": [
      "\u001b[1;31m---------------------------------------------------------------------------\u001b[0m",
      "\u001b[1;31mTypeError\u001b[0m                                 Traceback (most recent call last)",
      "Cell \u001b[1;32mIn[24], line 2\u001b[0m\n\u001b[0;32m      1\u001b[0m d\u001b[38;5;241m=\u001b[39m\u001b[38;5;124m'\u001b[39m\u001b[38;5;124m10\u001b[39m\u001b[38;5;124m'\u001b[39m\n\u001b[1;32m----> 2\u001b[0m \u001b[38;5;28mprint\u001b[39m(c\u001b[38;5;241m+\u001b[39md)\n",
      "\u001b[1;31mTypeError\u001b[0m: unsupported operand type(s) for +: 'int' and 'str'"
     ]
    }
   ],
   "source": [
    "d='10'\n",
    "print(c+d)"
   ]
  },
  {
   "cell_type": "code",
   "execution_count": 25,
   "id": "e52c7deb-5263-40d8-b652-d01b5ed01ec1",
   "metadata": {},
   "outputs": [
    {
     "name": "stdout",
     "output_type": "stream",
     "text": [
      "30\n"
     ]
    }
   ],
   "source": [
    "d='10'\n",
    "print(c+int(d))"
   ]
  },
  {
   "cell_type": "code",
   "execution_count": 26,
   "id": "2e21c69d-49e0-45a8-a904-deb38c029bd9",
   "metadata": {},
   "outputs": [
    {
     "name": "stdout",
     "output_type": "stream",
     "text": [
      "2010\n"
     ]
    }
   ],
   "source": [
    "d='10'\n",
    "print(str(c)+d)"
   ]
  },
  {
   "cell_type": "code",
   "execution_count": 27,
   "id": "c42f24b3-5682-44c4-8ef1-1fb241fb65ac",
   "metadata": {},
   "outputs": [
    {
     "name": "stdout",
     "output_type": "stream",
     "text": [
      "13.14\n"
     ]
    }
   ],
   "source": [
    "e=3.14\n",
    "f=10\n",
    "print(e+f)"
   ]
  },
  {
   "cell_type": "code",
   "execution_count": 1,
   "id": "9f3f1826-7827-4ef9-85fe-ffff8df1c193",
   "metadata": {},
   "outputs": [
    {
     "name": "stdout",
     "output_type": "stream",
     "text": [
      "[1, 2, 3, 4, 5]\n",
      "1\n",
      "2\n"
     ]
    }
   ],
   "source": [
    "a_list=[1,2,3,4,5]\n",
    "print(a_list)\n",
    "print(a_list[0])\n",
    "print(a_list[1])"
   ]
  },
  {
   "cell_type": "code",
   "execution_count": 2,
   "id": "9f609126-7313-4fcf-a4a5-e8a48a060ac9",
   "metadata": {},
   "outputs": [
    {
     "name": "stdout",
     "output_type": "stream",
     "text": [
      "[1, 2]\n",
      "[3, 4, 5]\n"
     ]
    }
   ],
   "source": [
    "print(a_list[:2])\n",
    "print(a_list[2:])"
   ]
  },
  {
   "cell_type": "code",
   "execution_count": 3,
   "id": "10861ba5-7738-42a9-b1c2-8133ded099c8",
   "metadata": {},
   "outputs": [
    {
     "name": "stdout",
     "output_type": "stream",
     "text": [
      "[1, 2, 3]\n"
     ]
    }
   ],
   "source": [
    "b_list=[]\n",
    "b_list.append(1)\n",
    "b_list.append(2)\n",
    "b_list.append(3)\n",
    "print(b_list)"
   ]
  },
  {
   "cell_type": "code",
   "execution_count": 4,
   "id": "6d6c03ba-1942-4d1f-af60-c807f7555bb2",
   "metadata": {},
   "outputs": [
    {
     "name": "stdout",
     "output_type": "stream",
     "text": [
      "[1, 3, 14, 'hello', [1, 2, 3]]\n",
      "[3, 14]\n"
     ]
    }
   ],
   "source": [
    "c_list=[1,3,14,\"hello\",[1,2,3]]\n",
    "print(c_list)\n",
    "print(c_list[1:3])"
   ]
  },
  {
   "cell_type": "code",
   "execution_count": 5,
   "id": "fef9ecfd-5b4a-4792-9380-41c21e46b5b9",
   "metadata": {},
   "outputs": [
    {
     "name": "stdout",
     "output_type": "stream",
     "text": [
      "[1, 2, 3, 4, 5]\n",
      "[5, 2, 3, 4, 5]\n"
     ]
    }
   ],
   "source": [
    "d_list=[1,2,3,4,5]\n",
    "print(d_list)\n",
    "d_list[0]=5\n",
    "print(d_list)"
   ]
  },
  {
   "cell_type": "code",
   "execution_count": 6,
   "id": "8493b951-0e6f-4109-b5fd-3d1e62ea9794",
   "metadata": {},
   "outputs": [
    {
     "name": "stdout",
     "output_type": "stream",
     "text": [
      "(1, 2, 3, 4, 5)\n"
     ]
    }
   ],
   "source": [
    "a_tuple=(1,2,3,4,5)\n",
    "print(a_tuple)"
   ]
  },
  {
   "cell_type": "code",
   "execution_count": 7,
   "id": "2f9919ca-c666-44ec-8225-c568fa2a09e1",
   "metadata": {},
   "outputs": [
    {
     "ename": "TypeError",
     "evalue": "'tuple' object does not support item assignment",
     "output_type": "error",
     "traceback": [
      "\u001b[1;31m---------------------------------------------------------------------------\u001b[0m",
      "\u001b[1;31mTypeError\u001b[0m                                 Traceback (most recent call last)",
      "Cell \u001b[1;32mIn[7], line 1\u001b[0m\n\u001b[1;32m----> 1\u001b[0m a_tuple[\u001b[38;5;241m0\u001b[39m]\u001b[38;5;241m=\u001b[39m\u001b[38;5;241m5\u001b[39m\n",
      "\u001b[1;31mTypeError\u001b[0m: 'tuple' object does not support item assignment"
     ]
    }
   ],
   "source": [
    "a_tuple[0]=5"
   ]
  },
  {
   "cell_type": "code",
   "execution_count": 8,
   "id": "7adfb24d-b993-4b17-820b-95587bbfb188",
   "metadata": {},
   "outputs": [
    {
     "name": "stdout",
     "output_type": "stream",
     "text": [
      "{'a': 1, 'b': 2, 'c': '3'}\n",
      "1\n",
      "2\n",
      "3\n"
     ]
    }
   ],
   "source": [
    "a_dic={'a':1,'b':2,'c':'3'}\n",
    "print(a_dic)\n",
    "print(a_dic['a'])\n",
    "print(a_dic['b'])\n",
    "print(a_dic['c'])"
   ]
  },
  {
   "cell_type": "code",
   "execution_count": 9,
   "id": "5c5234fe-f5d2-434f-ae84-7aecad834845",
   "metadata": {},
   "outputs": [
    {
     "name": "stdout",
     "output_type": "stream",
     "text": [
      "a\n",
      "[1, 2, 3]\n",
      "3\n"
     ]
    }
   ],
   "source": [
    "b_dic={1:'a','b':[1,2,3],'c':3}\n",
    "print(b_dic[1])\n",
    "print(b_dic['b'])\n",
    "print(b_dic['c'])"
   ]
  },
  {
   "cell_type": "code",
   "execution_count": 10,
   "id": "3aaabfb1-b208-434b-be6b-62b02024e0ee",
   "metadata": {},
   "outputs": [
    {
     "name": "stdout",
     "output_type": "stream",
     "text": [
      "{1: 'a', 'b': [1, 2, 3], 'c': 3, 'd': 4}\n"
     ]
    }
   ],
   "source": [
    "b_dic['d']=4\n",
    "print(b_dic)"
   ]
  },
  {
   "cell_type": "code",
   "execution_count": 11,
   "id": "9c1ca512-8108-4747-b820-09bc18d391a8",
   "metadata": {},
   "outputs": [
    {
     "name": "stdout",
     "output_type": "stream",
     "text": [
      "{1, 2, 3, 4}\n"
     ]
    }
   ],
   "source": [
    "a_set=set([1,2,3,4])\n",
    "print(a_set)"
   ]
  },
  {
   "cell_type": "code",
   "execution_count": 13,
   "id": "071d1029-c32d-43a0-b206-7966dadc11b5",
   "metadata": {},
   "outputs": [
    {
     "name": "stdout",
     "output_type": "stream",
     "text": [
      "{1, 2, 3, 4, 5, 6}\n"
     ]
    }
   ],
   "source": [
    "b_set=set([1,1,2,2,3,3,4,5,6])\n",
    "print(b_set)"
   ]
  },
  {
   "cell_type": "code",
   "execution_count": 14,
   "id": "9db6cebd-56e2-4bf8-8f36-7a30cacc15da",
   "metadata": {},
   "outputs": [
    {
     "name": "stdout",
     "output_type": "stream",
     "text": [
      "{'y', 't', 'h', 'o', 'n', 'p'}\n"
     ]
    }
   ],
   "source": [
    "c_set=set(\"python\")\n",
    "print(c_set)"
   ]
  },
  {
   "cell_type": "code",
   "execution_count": 15,
   "id": "d4829703-c221-4672-ae54-1cf9514802f5",
   "metadata": {},
   "outputs": [
    {
     "name": "stdout",
     "output_type": "stream",
     "text": [
      "더하기: 30\n",
      "빼기: -10\n",
      "곱하기: 200\n",
      "나누기: 6.666666666666667\n",
      "나누기(몫): 6\n",
      "나누기(나머지): 4\n",
      "거듭제곱: 100\n"
     ]
    }
   ],
   "source": [
    "print(\"더하기:\",10+20)\n",
    "print(\"빼기:\",10-20)\n",
    "print(\"곱하기:\",10*20)\n",
    "print(\"나누기:\",40/6)\n",
    "print(\"나누기(몫):\",40//6)\n",
    "print(\"나누기(나머지):\",40%6)\n",
    "print(\"거듭제곱:\", 10**2)"
   ]
  },
  {
   "cell_type": "code",
   "execution_count": 17,
   "id": "1bdd5e33-339e-407f-9d3a-2f03f9dd7d4e",
   "metadata": {},
   "outputs": [
    {
     "name": "stdout",
     "output_type": "stream",
     "text": [
      "0\n",
      "1\n",
      "1\n",
      "1\n",
      "False\n",
      "True\n",
      "True\n",
      "True\n"
     ]
    }
   ],
   "source": [
    "print(0 or 0)\n",
    "print(0 or 1)\n",
    "print(1 or 0)\n",
    "print(1 or 1)\n",
    "print(False or False)\n",
    "print(False or True)\n",
    "print(True or False)\n",
    "print(True or True)"
   ]
  },
  {
   "cell_type": "code",
   "execution_count": 18,
   "id": "d68d20d5-d143-49ce-ad43-dc555ab19747",
   "metadata": {},
   "outputs": [
    {
     "name": "stdout",
     "output_type": "stream",
     "text": [
      "0\n",
      "0\n",
      "0\n",
      "1\n",
      "False\n",
      "False\n",
      "False\n",
      "True\n"
     ]
    }
   ],
   "source": [
    "print(0 and 0)\n",
    "print(0 and 1)\n",
    "print(1 and 0)\n",
    "print(1 and 1)\n",
    "print(False and False)\n",
    "print(False and True)\n",
    "print(True and False)\n",
    "print(True and True)"
   ]
  },
  {
   "cell_type": "code",
   "execution_count": 19,
   "id": "ec078da2-ba97-4753-8f86-24fccd9b7c13",
   "metadata": {},
   "outputs": [
    {
     "name": "stdout",
     "output_type": "stream",
     "text": [
      "True\n",
      "False\n",
      "True\n",
      "False\n"
     ]
    }
   ],
   "source": [
    "print(not 0)\n",
    "print(not 1)\n",
    "print(not False)\n",
    "print(not True)"
   ]
  },
  {
   "cell_type": "code",
   "execution_count": 20,
   "id": "4010fca5-6897-4a81-b1a2-65ae10d8a820",
   "metadata": {},
   "outputs": [
    {
     "name": "stdout",
     "output_type": "stream",
     "text": [
      "True\n",
      "True\n",
      "True\n",
      "False\n",
      "True\n",
      "False\n"
     ]
    }
   ],
   "source": [
    "print(10 == 10)\n",
    "print(10 >= 10)\n",
    "print(10 <= 10)\n",
    "print(10 < 5)\n",
    "print(10 > 5)\n",
    "print(10 != 10)"
   ]
  },
  {
   "cell_type": "code",
   "execution_count": 21,
   "id": "530bc17a-8371-48e2-9258-53b900bd636c",
   "metadata": {},
   "outputs": [
    {
     "name": "stdout",
     "output_type": "stream",
     "text": [
      "True\n",
      "False\n",
      "True\n",
      "True\n"
     ]
    }
   ],
   "source": [
    "a_list=['a', 2, 'hello', 3]\n",
    "print('a' in a_list)\n",
    "print(1 in a_list)\n",
    "print('hello' in a_list)\n",
    "print(3 in a_list)"
   ]
  },
  {
   "cell_type": "code",
   "execution_count": 22,
   "id": "4f6c26fe-b562-4656-a69d-7159c313eb45",
   "metadata": {},
   "outputs": [
    {
     "name": "stdout",
     "output_type": "stream",
     "text": [
      "True\n",
      "True\n",
      "False\n"
     ]
    }
   ],
   "source": [
    "a_str=\"hello python\"\n",
    "print(\"python\" in a_str)\n",
    "print(\"py\" in a_str)\n",
    "print(\"40\" in a_str)"
   ]
  },
  {
   "cell_type": "code",
   "execution_count": null,
   "id": "3e0b5283-8959-4051-b096-f46f0d5a74f3",
   "metadata": {},
   "outputs": [],
   "source": []
  }
 ],
 "metadata": {
  "kernelspec": {
   "display_name": "Python 3 (ipykernel)",
   "language": "python",
   "name": "python3"
  },
  "language_info": {
   "codemirror_mode": {
    "name": "ipython",
    "version": 3
   },
   "file_extension": ".py",
   "mimetype": "text/x-python",
   "name": "python",
   "nbconvert_exporter": "python",
   "pygments_lexer": "ipython3",
   "version": "3.11.7"
  }
 },
 "nbformat": 4,
 "nbformat_minor": 5
}
